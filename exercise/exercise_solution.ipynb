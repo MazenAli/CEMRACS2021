{
 "cells": [
  {
   "cell_type": "markdown",
   "metadata": {},
   "source": [
    "# Part I: Basic TN Algebra\n",
    "\n",
    "In this part, we will practice some basic multilinear algebra to manipulate tensor networks. You require only a working installation of *python* and *numpy*. See *exercise.pdf* for more details.\n",
    "\n",
    "## Exercise 1: TN to Tensor Conversion\n",
    "\n",
    "1. Implement a function that converts the TN from Figure 2 to a tensor."
   ]
  },
  {
   "cell_type": "code",
   "execution_count": null,
   "metadata": {},
   "outputs": [],
   "source": [
    "# numpy required\n",
    "import numpy as np"
   ]
  },
  {
   "cell_type": "code",
   "execution_count": null,
   "metadata": {},
   "outputs": [],
   "source": [
    "# the TN from Figure 2 is defined by 4 tensors\n",
    "def star_to_tensor(A, B, C, O):\n",
    "    AO   = np.tensordot(A,   O, axes=([1], [0]))\n",
    "    AOB  = np.tensordot(AO,  B, axes=([1], [1]))\n",
    "    AOB  = np.transpose(AOB, (0, 2, 1))\n",
    "    AOBC = np.tensordot(AOB, C, axes=([2], [1]))\n",
    "    return AOBC"
   ]
  },
  {
   "cell_type": "code",
   "execution_count": null,
   "metadata": {},
   "outputs": [],
   "source": [
    "# test if the function works\n",
    "A = np.random.randn(2, 10)\n",
    "B = np.random.randn(3, 11)\n",
    "C = np.random.randn(4, 12)\n",
    "O = np.random.randn(10, 11, 12)\n",
    "\n",
    "X = star_to_tensor(A, B, C, O)\n",
    "print(X.shape)"
   ]
  },
  {
   "cell_type": "markdown",
   "metadata": {},
   "source": [
    "2. Implement a function that converts the TN from Figure 3 to a tensor."
   ]
  },
  {
   "cell_type": "code",
   "execution_count": null,
   "metadata": {},
   "outputs": [],
   "source": [
    "# the TN from Figure 3 is defined by 3 tensors\n",
    "def triangle_to_tensor(A, B, C):\n",
    "    AB  = np.tensordot(A,  B, axes=([1], [1]))\n",
    "    ABC = np.tensordot(AB, C, axes=([1, 3], [1, 2]))\n",
    "    return ABC"
   ]
  },
  {
   "cell_type": "code",
   "execution_count": null,
   "metadata": {},
   "outputs": [],
   "source": [
    "# test if the function works\n",
    "A = np.random.randn(2, 10, 11)\n",
    "B = np.random.randn(3, 10, 12)\n",
    "C = np.random.randn(4, 11, 12)\n",
    "\n",
    "X = triangle_to_tensor(A, B, C)\n",
    "print(X.shape)"
   ]
  },
  {
   "cell_type": "markdown",
   "metadata": {},
   "source": [
    "## Exercise 2: Tensor to TN Conversion\n",
    "\n",
    "1. Implement a function that converts a tensor to a TN from Figure 2."
   ]
  },
  {
   "cell_type": "code",
   "execution_count": null,
   "metadata": {},
   "outputs": [],
   "source": [
    "# return 4 tensors defining the TN from Figure 2\n",
    "def tensor_to_star(X):\n",
    "    dims = X.shape\n",
    "    assert len(dims) == 3 # only works with order 3 tensors\n",
    "    \n",
    "    # A\n",
    "    M     = np.reshape(X, (dims[0], dims[1]*dims[2]))\n",
    "    A, R  = np.linalg.qr(M)\n",
    "    linkA = R.shape[0]\n",
    "    R     = np.reshape(R, (linkA, dims[1], dims[2]))\n",
    "    \n",
    "    # B\n",
    "    R     = np.transpose(R, (1, 0, 2))\n",
    "    R     = np.reshape(R, (dims[1], dims[2]*linkA))\n",
    "    B, R  = np.linalg.qr(R)\n",
    "    linkB = R.shape[0]\n",
    "    R     = np.reshape(R, (linkB, linkA, dims[2]))\n",
    "    \n",
    "    # C\n",
    "    R     = np.transpose(R, (2, 0, 1))\n",
    "    R     = np.reshape(R, (dims[2], linkB*linkA))\n",
    "    C, R  = np.linalg.qr(R)\n",
    "    linkC = R.shape[0]\n",
    "    \n",
    "    # O\n",
    "    O     = np.reshape(R, (linkC, linkB, linkA))\n",
    "    O     = np.transpose(O, (2, 1, 0))\n",
    "    \n",
    "    return A, B, C, O"
   ]
  },
  {
   "cell_type": "code",
   "execution_count": null,
   "metadata": {},
   "outputs": [],
   "source": [
    "# test if the functions work correctly\n",
    "X          = np.random.randn(2, 3, 4)\n",
    "A, B, C, O = tensor_to_star(X)\n",
    "X_         = star_to_tensor(A, B, C, O)\n",
    "delta      = X-X_\n",
    "print(np.linalg.norm(delta)) # this should be numerically 0"
   ]
  },
  {
   "cell_type": "markdown",
   "metadata": {},
   "source": [
    "2. Implement a function that converts a tensor to a TN from Figure 3."
   ]
  },
  {
   "cell_type": "code",
   "execution_count": null,
   "metadata": {},
   "outputs": [],
   "source": [
    "def tensor_to_triangle(X):\n",
    "    dims = X.shape\n",
    "    assert len(dims) == 3 # only works with order 3 tensors\n",
    "    \n",
    "    # A\n",
    "    M    = np.reshape(X, (dims[0], dims[1]*dims[2]))\n",
    "    A, R = np.linalg.qr(M)\n",
    "    \n",
    "    # decide on first rank\n",
    "    linkA = R.shape[0]\n",
    "    linkC = 1\n",
    "    if linkA > 1:\n",
    "        for i in range(2, linkA+1):\n",
    "            if linkA % i == 0:\n",
    "                linkC = linkA//i\n",
    "                linkA = i\n",
    "                break\n",
    "    \n",
    "    A = np.reshape(A, (dims[0], linkA, linkC))\n",
    "    R = np.reshape(R, (linkA, linkC, dims[1], dims[2]))\n",
    "    \n",
    "    # B\n",
    "    R     = np.transpose(R, (0, 2, 1, 3))\n",
    "    R     = np.reshape(R, (linkA*dims[1], dims[2]*linkC))\n",
    "    B, R  = np.linalg.qr(R)\n",
    "    linkB = R.shape[0]\n",
    "    B     = np.reshape(B, (linkA, dims[1], linkB))\n",
    "    B     = np.transpose(B, (1, 0, 2))\n",
    "    \n",
    "    # C\n",
    "    C     = np.reshape(R, (linkB, linkC, dims[2]))\n",
    "    C     = np.transpose(C, (2, 1, 0))\n",
    "\n",
    "    return A, B, C"
   ]
  },
  {
   "cell_type": "code",
   "execution_count": null,
   "metadata": {},
   "outputs": [],
   "source": [
    "X       = np.random.randn(2, 3, 4)\n",
    "A, B, C = tensor_to_triangle(X)\n",
    "X_      = triangle_to_tensor(A, B, C)\n",
    "delta   = X-X_\n",
    "print(np.linalg.norm(delta)) # this should be numerically 0"
   ]
  },
  {
   "cell_type": "markdown",
   "metadata": {},
   "source": [
    "## Exercise 3: TT Truncation"
   ]
  },
  {
   "cell_type": "code",
   "execution_count": null,
   "metadata": {},
   "outputs": [],
   "source": [
    "# convert TT to tensor for later testing\n",
    "import copy\n",
    "def tt_to_tensor(tt):\n",
    "    N      = len(tt)\n",
    "    tensor = np.copy(tt[0])\n",
    "    for i in range(1, N):\n",
    "        core   = tt[i]\n",
    "        tensor = np.tensordot(tensor, core, axes=1)\n",
    "    \n",
    "    return tensor"
   ]
  },
  {
   "cell_type": "markdown",
   "metadata": {},
   "source": [
    "1. Implement a function that orthogonalizes a TT"
   ]
  },
  {
   "cell_type": "code",
   "execution_count": null,
   "metadata": {},
   "outputs": [],
   "source": [
    "# orthogonalize TT\n",
    "def orthogonalize_tt(tt, center = 0):\n",
    "    N = len(tt)\n",
    "    \n",
    "    assert N > 1\n",
    "    assert center >= 0\n",
    "    assert center <= N-1\n",
    "\n",
    "    ortho_tt = copy.deepcopy(tt)\n",
    "    \n",
    "    # left orthogonalize\n",
    "    if center > 0:\n",
    "        core        = ortho_tt[0]\n",
    "        \n",
    "        assert len(core.shape) == 2\n",
    "        \n",
    "        Q, R        = np.linalg.qr(core)\n",
    "        ortho_tt[0] = Q\n",
    "        ortho_tt[1] = np.tensordot(R, ortho_tt[1], axes=1)\n",
    "\n",
    "    for i in range(1, center):\n",
    "        core = ortho_tt[i]\n",
    "        \n",
    "        assert len(core.shape) == 3\n",
    "        \n",
    "        link_left  = core.shape[0]\n",
    "        link_right = core.shape[2]\n",
    "        site_dim   = core.shape[1]\n",
    "        \n",
    "        core          = np.reshape(core, (link_left*site_dim, link_right))\n",
    "        Q, R          = np.linalg.qr(core)\n",
    "        ortho_tt[i]   = np.reshape(Q, (link_left, site_dim, link_right))\n",
    "        ortho_tt[i+1] = np.tensordot(R, ortho_tt[i+1], axes=1)\n",
    "    \n",
    "    # right orthogonalize\n",
    "    if center < N-1:\n",
    "        core          = ortho_tt[N-1]\n",
    "        \n",
    "        assert len(core.shape) == 2\n",
    "        \n",
    "        core          = np.transpose(core)\n",
    "        Q, R          = np.linalg.qr(core)\n",
    "        Q             = np.transpose(Q)\n",
    "        ortho_tt[N-1] = Q\n",
    "        ortho_tt[N-2] = np.tensordot(R, ortho_tt[N-2], axes=([-1], [-1]))\n",
    "        ortho_tt[N-2] = np.transpose(ortho_tt[N-2], (1, 2, 0))\n",
    "\n",
    "    for i in range(N-2, center, -1):\n",
    "        core = ortho_tt[i]\n",
    "        \n",
    "        assert len(core.shape) == 3\n",
    "        \n",
    "        link_left  = core.shape[0]\n",
    "        link_right = core.shape[2]\n",
    "        site_dim   = core.shape[1]\n",
    "        \n",
    "        core          = np.transpose(core, (2, 1, 0))\n",
    "        core          = np.reshape(core, (link_right*site_dim, link_left))\n",
    "        \n",
    "        Q, R          = np.linalg.qr(core)\n",
    "        Q             = np.reshape(Q, (link_right, site_dim, link_left))\n",
    "        ortho_tt[i]   = np.transpose(Q, (2, 1, 0))\n",
    "        ortho_tt[i-1] = np.tensordot(R, ortho_tt[i-1], axes=([-1], [-1]))\n",
    "        \n",
    "        if i > 1:\n",
    "            ortho_tt[i-1] = np.transpose(ortho_tt[i-1], (1, 2, 0))\n",
    "        elif i == 1:\n",
    "            ortho_tt[0]   = np.transpose(ortho_tt[0])\n",
    "        \n",
    "    return ortho_tt"
   ]
  },
  {
   "cell_type": "code",
   "execution_count": null,
   "metadata": {},
   "outputs": [],
   "source": [
    "# check if correct\n",
    "A  = np.random.randn(2, 5)\n",
    "B  = np.random.randn(5, 3, 4)\n",
    "C  = np.random.randn(4, 4, 2)\n",
    "D  = np.random.randn(2, 5)\n",
    "tt = [A, B, C, D]\n",
    "\n",
    "# all errors should be numerically 0\n",
    "for i in range(0,4):\n",
    "    ortho_tt = orthogonalize_tt(tt, center = i)\n",
    "    X        = tt_to_tensor(tt)\n",
    "    X_       = tt_to_tensor(ortho_tt)\n",
    "    delta    = X-X_\n",
    "    print(np.linalg.norm(delta))"
   ]
  },
  {
   "cell_type": "markdown",
   "metadata": {},
   "source": [
    "2. Implement a function that truncates a TT"
   ]
  },
  {
   "cell_type": "code",
   "execution_count": null,
   "metadata": {},
   "outputs": [],
   "source": [
    "# return truncated TT and sum of squared truncated singular values\n",
    "def truncate_tt(tt, site, rank):\n",
    "    N = len(tt)\n",
    "    \n",
    "    assert N > 1\n",
    "    assert site >= 0\n",
    "    assert site < N-1\n",
    "    assert rank > 0\n",
    "\n",
    "    truncated = orthogonalize_tt(tt, center = site)\n",
    "    core      = truncated[site]\n",
    "    eps       = 0.\n",
    "    \n",
    "    if site > 0:\n",
    "        assert len(core.shape) == 3\n",
    "        \n",
    "        link_left  = core.shape[0]\n",
    "        link_right = core.shape[2]\n",
    "        site_dim   = core.shape[1]\n",
    "        core       = np.reshape(core, (link_left*site_dim, link_right))\n",
    "        \n",
    "    U, s, Vh   = np.linalg.svd(core, full_matrices = False)\n",
    "    link_right = Vh.shape[1]\n",
    "    \n",
    "    if rank < len(s):\n",
    "        eps               = np.sum(np.square(s[rank:]))\n",
    "        U                 = U[:,0:rank]\n",
    "        R                 = np.diag(s[0:rank]) @ Vh[0:rank,:]\n",
    "        truncated[site+1] = np.tensordot(R, truncated[site+1], axes = 1)\n",
    "        link_right        = rank\n",
    "    else:\n",
    "        R                 = np.diag(s) @ Vh\n",
    "        truncated[site+1] = np.tensordot(R, truncated[site+1], axes = 1)\n",
    "\n",
    "        \n",
    "    if site > 0:\n",
    "        U = np.reshape(U, (link_left, site_dim, link_right))\n",
    "        \n",
    "    truncated[site] = U\n",
    "    \n",
    "    return truncated, eps"
   ]
  },
  {
   "cell_type": "code",
   "execution_count": null,
   "metadata": {},
   "outputs": [],
   "source": [
    "# check if correct\n",
    "A  = np.random.randn(5, 5)\n",
    "B  = np.random.randn(5, 5, 10)\n",
    "C  = np.random.randn(10, 5, 5)\n",
    "D  = np.random.randn(5, 5)\n",
    "tt = [A, B, C, D]\n",
    "\n",
    "# squared error and squared singular values should be numerically the same\n",
    "for i in range(0, 3):\n",
    "    site           = i\n",
    "    rank           = 2\n",
    "    truncated, eps = truncate_tt(tt, site, rank)\n",
    "    X              = tt_to_tensor(tt)\n",
    "    X_             = tt_to_tensor(truncated)\n",
    "    error          = np.tensordot(X-X_, X-X_, axes = 4)\n",
    "    print(\"site                           = \", i)\n",
    "    print(\"sum of squared singular values = \", eps)\n",
    "    print(\"squared error                  = \", error)\n",
    "    print(\"relative difference            = \", abs(eps-error)/error)\n",
    "    print(\"\\n------------------------------------------------\\n\")"
   ]
  },
  {
   "cell_type": "markdown",
   "metadata": {},
   "source": [
    "# Part III: Advanced Applications\n",
    "\n",
    "## Exercise 5: Higher-Order PCA"
   ]
  },
  {
   "cell_type": "code",
   "execution_count": null,
   "metadata": {},
   "outputs": [],
   "source": [
    "import tensap\n",
    "\n",
    "# choose file to run\n",
    "file = \"/home/mali/Research/Software/Python/Anthony/tensap-v1.1/tutorials/approximation/tutorial_PCA_FunctionalTensorPrincipalComponentAnalysis.py\"\n",
    "\n",
    "%run \"$file\""
   ]
  },
  {
   "cell_type": "code",
   "execution_count": null,
   "metadata": {},
   "outputs": [],
   "source": [
    "# run again with a random tree\n",
    "TREE                       = tensap.DimensionTree.random(D, [2, 4])\n",
    "FPCA.max_rank              = np.random.randint(1, 9, TREE.nb_nodes)\n",
    "FPCA.max_rank[TREE.root-1] = 1\n",
    "F, OUTPUT                  = FPCA.tree_based_approximation(FUN, TREE)\n",
    "\n",
    "# plot tree\n",
    "F.tensor.plot(title='Active nodes')\n",
    "F.tensor.tree.plot_dims(title='Dimensions associated to the leaf nodes')\n",
    "F.tensor.tree.plot_with_labels_at_nodes(F.tensor.representation_rank,\n",
    "                                        title='Representation ranks')\n",
    "print('Number of evaluations = %i' % OUTPUT['number_of_evaluations'])\n",
    "print('Storage = %i' % F.storage())\n",
    "print('Ranks = %s' % F.tensor.ranks)\n",
    "X_TEST = X.random(1e3)\n",
    "F_X_TEST = F(X_TEST)\n",
    "Y_TEST = FUN(X_TEST)\n",
    "print('Error = %2.5e' % (np.linalg.norm(Y_TEST - F_X_TEST) /\n",
    "                         np.linalg.norm(Y_TEST)))"
   ]
  },
  {
   "cell_type": "code",
   "execution_count": null,
   "metadata": {},
   "outputs": [],
   "source": []
  }
 ],
 "metadata": {
  "kernelspec": {
   "display_name": "Python 3 (ipykernel)",
   "language": "python",
   "name": "python3"
  },
  "language_info": {
   "codemirror_mode": {
    "name": "ipython",
    "version": 3
   },
   "file_extension": ".py",
   "mimetype": "text/x-python",
   "name": "python",
   "nbconvert_exporter": "python",
   "pygments_lexer": "ipython3",
   "version": "3.8.10"
  },
  "varInspector": {
   "cols": {
    "lenName": 16,
    "lenType": 16,
    "lenVar": 40
   },
   "kernels_config": {
    "python": {
     "delete_cmd_postfix": "",
     "delete_cmd_prefix": "del ",
     "library": "var_list.py",
     "varRefreshCmd": "print(var_dic_list())"
    },
    "r": {
     "delete_cmd_postfix": ") ",
     "delete_cmd_prefix": "rm(",
     "library": "var_list.r",
     "varRefreshCmd": "cat(var_dic_list()) "
    }
   },
   "types_to_exclude": [
    "module",
    "function",
    "builtin_function_or_method",
    "instance",
    "_Feature"
   ],
   "window_display": false
  }
 },
 "nbformat": 4,
 "nbformat_minor": 4
}

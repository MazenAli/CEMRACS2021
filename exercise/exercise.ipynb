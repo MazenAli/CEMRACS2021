{
 "cells": [
  {
   "cell_type": "markdown",
   "metadata": {},
   "source": [
    "# Part I: Basic TN Algebra\n",
    "\n",
    "In this part, we will practice some basic multilinear algebra to manipulate tensor networks. You require only a working installation of *python* and *numpy*. See *exercise.pdf* for more details.\n",
    "\n",
    "## Exercise 1: TN to Tensor Conversion\n",
    "\n",
    "1. Implement a function that converts the TN from Figure 2 to a tensor."
   ]
  },
  {
   "cell_type": "code",
   "execution_count": null,
   "metadata": {},
   "outputs": [],
   "source": [
    "# numpy required\n",
    "import numpy as np"
   ]
  },
  {
   "cell_type": "code",
   "execution_count": null,
   "metadata": {},
   "outputs": [],
   "source": [
    "# the TN from Figure 2 is defined by 4 tensors\n",
    "def star_to_tensor(A, B, C, O):\n",
    "    # TODO\n",
    "    return X # return tensor"
   ]
  },
  {
   "cell_type": "code",
   "execution_count": null,
   "metadata": {},
   "outputs": [],
   "source": [
    "# test if the function works\n",
    "A = np.random.randn(2, 10)\n",
    "B = np.random.randn(3, 11)\n",
    "C = np.random.randn(4, 12)\n",
    "O = np.random.randn(10, 11, 12)\n",
    "\n",
    "X = star_to_tensor(A, B, C, O)\n",
    "print(X.shape)"
   ]
  },
  {
   "cell_type": "markdown",
   "metadata": {},
   "source": [
    "2. Implement a function that converts the TN from Figure 3 to a tensor."
   ]
  },
  {
   "cell_type": "code",
   "execution_count": null,
   "metadata": {},
   "outputs": [],
   "source": [
    "# the TN from Figure 3 is defined by 4 tensors\n",
    "def triangle_to_tensor(A, B, C):\n",
    "    # TODO\n",
    "    return X # return tensor"
   ]
  },
  {
   "cell_type": "code",
   "execution_count": null,
   "metadata": {},
   "outputs": [],
   "source": [
    "# test if the function works\n",
    "A = np.random.randn(2, 10, 11)\n",
    "B = np.random.randn(3, 10, 12)\n",
    "C = np.random.randn(4, 11, 12)\n",
    "\n",
    "X = triangle_to_tensor(A, B, C)\n",
    "print(X.shape)"
   ]
  },
  {
   "cell_type": "markdown",
   "metadata": {},
   "source": [
    "## Exercise 2: Tensor to TN Conversion\n",
    "\n",
    "1. Implement a function that converts a tensor to a TN from Figure 2."
   ]
  },
  {
   "cell_type": "code",
   "execution_count": null,
   "metadata": {},
   "outputs": [],
   "source": [
    "# return 4 tensors defining the TN from Figure 2\n",
    "def tensor_to_star(X):\n",
    "    # TODO\n",
    "    return A, B, C, O # return 4 tensors"
   ]
  },
  {
   "cell_type": "code",
   "execution_count": null,
   "metadata": {},
   "outputs": [],
   "source": [
    "# test if the functions work correctly\n",
    "X          = np.random.randn(2, 3, 4)\n",
    "A, B, C, O = tensor_to_star(X)\n",
    "X_         = star_to_tensor(A, B, C, O)\n",
    "delta      = X-X_\n",
    "print(np.linalg.norm(delta)) # this should be numerically 0"
   ]
  },
  {
   "cell_type": "markdown",
   "metadata": {},
   "source": [
    "2. Implement a function that converts a tensor to a TN from Figure 3."
   ]
  },
  {
   "cell_type": "code",
   "execution_count": null,
   "metadata": {},
   "outputs": [],
   "source": [
    "def tensor_to_triangle(X):\n",
    "    # TODO\n",
    "    return A, B, C # return 3 tensors"
   ]
  },
  {
   "cell_type": "code",
   "execution_count": null,
   "metadata": {},
   "outputs": [],
   "source": [
    "X       = np.random.randn(2, 3, 4)\n",
    "A, B, C = tensor_to_triangle(X)\n",
    "X_      = triangle_to_tensor(A, B, C)\n",
    "delta   = X-X_\n",
    "print(np.linalg.norm(delta)) # this should be numerically 0"
   ]
  },
  {
   "cell_type": "markdown",
   "metadata": {},
   "source": [
    "## Exercise 3: TT Truncation"
   ]
  },
  {
   "cell_type": "code",
   "execution_count": null,
   "metadata": {},
   "outputs": [],
   "source": [
    "# convert TT to tensor for later testing\n",
    "import copy\n",
    "def tt_to_tensor(tt):\n",
    "    N      = len(tt)\n",
    "    tensor = np.copy(tt[0])\n",
    "    for i in range(1, N):\n",
    "        core   = tt[i]\n",
    "        tensor = np.tensordot(tensor, core, axes=1)\n",
    "    \n",
    "    return tensor"
   ]
  },
  {
   "cell_type": "markdown",
   "metadata": {},
   "source": [
    "1. Implement a function that orthogonalizes a TT"
   ]
  },
  {
   "cell_type": "code",
   "execution_count": null,
   "metadata": {},
   "outputs": [],
   "source": [
    "# orthogonalize TT\n",
    "def orthogonalize_tt(tt, center = 0):\n",
    "    # TODO        \n",
    "    return # return orthogonalized TT"
   ]
  },
  {
   "cell_type": "code",
   "execution_count": null,
   "metadata": {},
   "outputs": [],
   "source": [
    "# check if correct\n",
    "A  = np.random.randn(2, 5)\n",
    "B  = np.random.randn(5, 3, 4)\n",
    "C  = np.random.randn(4, 4, 2)\n",
    "D  = np.random.randn(2, 5)\n",
    "tt = [A, B, C, D]\n",
    "\n",
    "# all errors should be numerically 0\n",
    "for i in range(0,4):\n",
    "    ortho_tt = orthogonalize_tt(tt, center = i)\n",
    "    X        = tt_to_tensor(tt)\n",
    "    X_       = tt_to_tensor(ortho_tt)\n",
    "    delta    = X-X_\n",
    "    print(np.linalg.norm(delta))"
   ]
  },
  {
   "cell_type": "markdown",
   "metadata": {},
   "source": [
    "2. Implement a function that truncates a TT"
   ]
  },
  {
   "cell_type": "code",
   "execution_count": null,
   "metadata": {},
   "outputs": [],
   "source": [
    "# return truncated TT and sum of truncated singular values\n",
    "def truncate_tt(tt, site, rank):\n",
    "    # TODO\n",
    "    return # return truncated TT and sum of singular values"
   ]
  },
  {
   "cell_type": "code",
   "execution_count": null,
   "metadata": {},
   "outputs": [],
   "source": [
    "# check if correct\n",
    "A  = np.random.randn(5, 5)\n",
    "B  = np.random.randn(5, 5, 10)\n",
    "C  = np.random.randn(10, 5, 5)\n",
    "D  = np.random.randn(5, 5)\n",
    "tt = [A, B, C, D]\n",
    "\n",
    "# error and singular values should be numerically the same\n",
    "for i in range(0, 3):\n",
    "    site           = i\n",
    "    rank           = 2\n",
    "    truncated, eps = truncate_tt(tt, site, rank)\n",
    "    X              = tt_to_tensor(tt)\n",
    "    X_             = tt_to_tensor(truncated)\n",
    "    error          = np.tensordot(X-X_, X-X_, axes = 4)\n",
    "    print(\"site                   = \", i)\n",
    "    print(\"sum of singular values = \", eps)\n",
    "    print(\"error                  = \", error)\n",
    "    print(\"relative difference    = \", abs(eps-error)/error)\n",
    "    print(\"\\n------------------------------------------------\\n\")"
   ]
  },
  {
   "cell_type": "markdown",
   "metadata": {},
   "source": [
    "# Part III: Advanced Applications\n",
    "\n",
    "## Exercise 5: Higher-Order PCA"
   ]
  },
  {
   "cell_type": "code",
   "execution_count": null,
   "metadata": {},
   "outputs": [],
   "source": [
    "import tensap\n",
    "\n",
    "# choose file to run\n",
    "file = \"path/to/file/tutorials/approximation/tutorial_PCA_FunctionalTensorPrincipalComponentAnalysis.py\"\n",
    "\n",
    "%run \"$file\""
   ]
  },
  {
   "cell_type": "code",
   "execution_count": null,
   "metadata": {},
   "outputs": [],
   "source": [
    "# TODO: plot tree"
   ]
  },
  {
   "cell_type": "code",
   "execution_count": null,
   "metadata": {},
   "outputs": [],
   "source": [
    "# run again with a random tree\n",
    "# TODO\n",
    "\n",
    "# plot tree\n",
    "# TODO"
   ]
  }
 ],
 "metadata": {
  "kernelspec": {
   "display_name": "Python 3",
   "language": "python",
   "name": "python3"
  },
  "language_info": {
   "codemirror_mode": {
    "name": "ipython",
    "version": 3
   },
   "file_extension": ".py",
   "mimetype": "text/x-python",
   "name": "python",
   "nbconvert_exporter": "python",
   "pygments_lexer": "ipython3",
   "version": "3.8.5"
  },
  "varInspector": {
   "cols": {
    "lenName": 16,
    "lenType": 16,
    "lenVar": 40
   },
   "kernels_config": {
    "python": {
     "delete_cmd_postfix": "",
     "delete_cmd_prefix": "del ",
     "library": "var_list.py",
     "varRefreshCmd": "print(var_dic_list())"
    },
    "r": {
     "delete_cmd_postfix": ") ",
     "delete_cmd_prefix": "rm(",
     "library": "var_list.r",
     "varRefreshCmd": "cat(var_dic_list()) "
    }
   },
   "types_to_exclude": [
    "module",
    "function",
    "builtin_function_or_method",
    "instance",
    "_Feature"
   ],
   "window_display": false
  }
 },
 "nbformat": 4,
 "nbformat_minor": 4
}
